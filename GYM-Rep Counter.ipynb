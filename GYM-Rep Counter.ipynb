{
  "cells": [
    {
      "cell_type": "markdown",
      "metadata": {
        "id": "Z9xVGEIyIawS"
      },
      "source": [
        "# REP COUNTER AI Project\n",
        "# POSE ESTIMATION MODEL"
      ]
    },
    {
      "cell_type": "markdown",
      "metadata": {
        "id": "npnFenkrIawa"
      },
      "source": [
        "import cv2\n",
        "import mediapipe as mpm\n",
        "import numpy as np\n",
        "mp_drawing = mp.solutions.drawing_utils\n",
        "mp_drawing_styles=mp.solutions.drawing_styles\n",
        "mp_pose = mp.solutions.pose"
      ]
    },
    {
      "cell_type": "code",
      "execution_count": null,
      "metadata": {
        "id": "iQnW_iH1Iawb"
      },
      "outputs": [],
      "source": [
        "def calculate_angle(a,b,c):\n",
        "    a = np.array(a) # First\n",
        "    b = np.array(b) # Mid\n",
        "    c = np.array(c) # End\n",
        "    \n",
        "    radians = np.arctan2(c[1]-b[1], c[0]-b[0]) - np.arctan2(a[1]-b[1], a[0]-b[0])\n",
        "    angle = np.abs(radians*180.0/np.pi)\n",
        "    \n",
        "    if angle >180.0:\n",
        "        angle = 360-angle\n",
        "        \n",
        "    return angle "
      ]
    },
    {
      "cell_type": "markdown",
      "metadata": {
        "id": "LzRl7Ja5Iawd"
      },
      "source": [
        "# RIGHT ARM COUNTER"
      ]
    },
    {
      "cell_type": "code",
      "execution_count": null,
      "metadata": {
        "id": "H7EeqoEZIawe",
        "outputId": "a2566f23-e92f-4ff2-9a57-948712467681"
      },
      "outputs": [
        {
          "name": "stdout",
          "output_type": "stream",
          "text": [
            "1\n",
            "2\n",
            "3\n",
            "4\n"
          ]
        }
      ],
      "source": [
        "cap = cv2.VideoCapture(0)\n",
        "\n",
        "counter = 0 \n",
        "stage = None\n",
        "\n",
        "with mp_pose.Pose(min_detection_confidence=0.5, min_tracking_confidence=0.5) as pose:\n",
        "    while cap.isOpened():\n",
        "        ret, frame = cap.read()\n",
        "        \n",
        "        image = cv2.cvtColor(frame, cv2.COLOR_BGR2RGB)\n",
        "        image.flags.writeable = False\n",
        "        results = pose.process(image)\n",
        "        image.flags.writeable = True\n",
        "        image = cv2.cvtColor(image, cv2.COLOR_RGB2BGR)\n",
        "        \n",
        "        try:\n",
        "            landmarks = results.pose_landmarks.landmark\n",
        "            \n",
        "            \n",
        "            shoulder = [landmarks[mp_pose.PoseLandmark.RIGHT_SHOULDER.value].x,landmarks[mp_pose.PoseLandmark.RIGHT_SHOULDER.value].y]\n",
        "            elbow = [landmarks[mp_pose.PoseLandmark.RIGHT_ELBOW.value].x,landmarks[mp_pose.PoseLandmark.RIGHT_ELBOW.value].y]\n",
        "            wrist = [landmarks[mp_pose.PoseLandmark.RIGHT_WRIST.value].x,landmarks[mp_pose.PoseLandmark.RIGHT_WRIST.value].y]\n",
        "            \n",
        "            \n",
        "            angle = calculate_angle(shoulder, elbow, wrist)\n",
        "            \n",
        "            \n",
        "            cv2.putText(image, str(angle), \n",
        "                           tuple(np.multiply(elbow, [640, 480]).astype(int)), \n",
        "                           cv2.FONT_HERSHEY_SIMPLEX, 0.5, (255, 255, 255), 2, cv2.LINE_AA)\n",
        "            \n",
        "            if angle > 160:\n",
        "                stage = \"  down\"\n",
        "            if angle < 30 and stage =='  down':\n",
        "                stage=\"  up\"\n",
        "                counter +=1\n",
        "                print(counter)\n",
        "                       \n",
        "        except:\n",
        "            pass\n",
        "        \n",
        "        \n",
        "        # Setup status box\n",
        "        cv2.rectangle(image, (0,0), (300,73), (245,117,16), -1)\n",
        "        cv2.putText(image, 'BICEP RIGHT HAND REP COUNTER', (15,12), cv2.FONT_HERSHEY_SIMPLEX, 0.5, (0,0,0), 1, cv2.LINE_AA)\n",
        "        cv2.putText(image, str(counter), (10,60), cv2.FONT_HERSHEY_SIMPLEX, 2, (255,255,255), 2, cv2.LINE_AA)\n",
        "        cv2.putText(image, stage,  (60,60), cv2.FONT_HERSHEY_SIMPLEX, 2, (255,255,255), 2, cv2.LINE_AA)\n",
        "        \n",
        "        \n",
        "        # Render detections\n",
        "        mp_drawing.draw_landmarks(image, results.pose_landmarks, mp_pose.POSE_CONNECTIONS,\n",
        "                                mp_drawing.DrawingSpec(color=(245,117,66), thickness=2, circle_radius=2), \n",
        "                                mp_drawing.DrawingSpec(color=(245,66,230), thickness=2, circle_radius=2) \n",
        "                                 )               \n",
        "        \n",
        "        cv2.imshow('Bicep Counter', image)\n",
        "\n",
        "        if cv2.waitKey(10) & 0xFF == ord('q'):\n",
        "            break\n",
        "\n",
        "    cap.release()\n",
        "    cv2.destroyAllWindows()"
      ]
    },
    {
      "cell_type": "markdown",
      "metadata": {
        "id": "YJ8QZd7gIawg"
      },
      "source": [
        "# LEFT ARM COUNTER"
      ]
    },
    {
      "cell_type": "code",
      "execution_count": null,
      "metadata": {
        "id": "-CjpErv8Iawh",
        "outputId": "507b4291-dc59-48e0-97a7-bb4c46def732"
      },
      "outputs": [
        {
          "name": "stdout",
          "output_type": "stream",
          "text": [
            "1\n",
            "2\n",
            "3\n"
          ]
        }
      ],
      "source": [
        "cap = cv2.VideoCapture(0)\n",
        "\n",
        "counter = 0 \n",
        "stage = None\n",
        "\n",
        "with mp_pose.Pose(min_detection_confidence=0.5, min_tracking_confidence=0.5) as pose:\n",
        "    while cap.isOpened():\n",
        "        ret, frame = cap.read()\n",
        "        \n",
        "        image = cv2.cvtColor(frame, cv2.COLOR_BGR2RGB)\n",
        "        image.flags.writeable = False\n",
        "        results = pose.process(image)\n",
        "        image.flags.writeable = True\n",
        "        image = cv2.cvtColor(image, cv2.COLOR_RGB2BGR)\n",
        "        \n",
        "        try:\n",
        "            landmarks = results.pose_landmarks.landmark\n",
        "            \n",
        "            \n",
        "            shoulder = [landmarks[mp_pose.PoseLandmark.LEFT_SHOULDER.value].x,landmarks[mp_pose.PoseLandmark.LEFT_SHOULDER.value].y]\n",
        "            elbow = [landmarks[mp_pose.PoseLandmark.LEFT_ELBOW.value].x,landmarks[mp_pose.PoseLandmark.LEFT_ELBOW.value].y]\n",
        "            wrist = [landmarks[mp_pose.PoseLandmark.LEFT_WRIST.value].x,landmarks[mp_pose.PoseLandmark.LEFT_WRIST.value].y]\n",
        "            \n",
        "            \n",
        "            angle = calculate_angle(shoulder, elbow, wrist)\n",
        "            \n",
        "            \n",
        "            cv2.putText(image, str(angle), \n",
        "                           tuple(np.multiply(elbow, [640, 480]).astype(int)), \n",
        "                           cv2.FONT_HERSHEY_SIMPLEX, 0.5, (255, 255, 255), 2, cv2.LINE_AA)\n",
        "            \n",
        "            if angle > 160:\n",
        "                stage = \"  down\"\n",
        "            if angle < 30 and stage =='  down':\n",
        "                stage=\"  up\"\n",
        "                counter +=1\n",
        "                print(counter)\n",
        "                       \n",
        "        except:\n",
        "            pass\n",
        "        \n",
        "        \n",
        "        # Setup status box\n",
        "        cv2.rectangle(image, (0,0), (300,73), (245,117,16), -1)\n",
        "        cv2.putText(image, 'BICEP LEFT HAND REP COUNTER', (15,12), cv2.FONT_HERSHEY_SIMPLEX, 0.5, (0,0,0), 1, cv2.LINE_AA)\n",
        "        cv2.putText(image, str(counter), (10,60), cv2.FONT_HERSHEY_SIMPLEX, 2, (255,255,255), 2, cv2.LINE_AA)\n",
        "        cv2.putText(image, stage,  (60,60), cv2.FONT_HERSHEY_SIMPLEX, 2, (255,255,255), 2, cv2.LINE_AA)\n",
        "        \n",
        "        \n",
        "        # Render detections\n",
        "        mp_drawing.draw_landmarks(image, results.pose_landmarks, mp_pose.POSE_CONNECTIONS,\n",
        "                                mp_drawing.DrawingSpec(color=(245,117,66), thickness=2, circle_radius=2), \n",
        "                                mp_drawing.DrawingSpec(color=(245,66,230), thickness=2, circle_radius=2) \n",
        "                                 )               \n",
        "        \n",
        "        cv2.imshow('Bicep Counter', image)\n",
        "\n",
        "        if cv2.waitKey(10) & 0xFF == ord('q'):\n",
        "            break\n",
        "\n",
        "    cap.release()\n",
        "    cv2.destroyAllWindows()"
      ]
    },
    {
      "cell_type": "markdown",
      "metadata": {
        "id": "cIAaW4fIIawk"
      },
      "source": [
        "# PUSHUP COUNTER"
      ]
    },
    {
      "cell_type": "code",
      "execution_count": null,
      "metadata": {
        "id": "Z8aBKhcdIawl",
        "outputId": "6d2e4242-4c22-4fc8-f03d-c464e5f06434"
      },
      "outputs": [
        {
          "name": "stdout",
          "output_type": "stream",
          "text": [
            "1\n",
            "2\n",
            "3\n",
            "4\n",
            "5\n",
            "6\n"
          ]
        }
      ],
      "source": [
        "count =0\n",
        "position = None\n",
        "cap = cv2.VideoCapture(0)\n",
        "with mp_pose.Pose(min_detection_confidence=0.7, min_tracking_confidence=0.7) as pose:\n",
        "    while cap.isOpened():\n",
        "        success, image=cap.read()\n",
        "        if not success:\n",
        "            print(\"empty camera\")\n",
        "            break\n",
        "        \n",
        "        image = cv2.cvtColor(image,cv2.COLOR_BGR2RGB)\n",
        "        result = pose.process(image)\n",
        "        image = cv2.cvtColor(image,cv2.COLOR_BGR2RGB)\n",
        "        imlist=[]\n",
        "        \n",
        "        if result.pose_landmarks:\n",
        "            mp_drawing.draw_landmarks(\n",
        "                image, result.pose_landmarks,mp_pose.POSE_CONNECTIONS)\n",
        "            for id, im in enumerate(result.pose_landmarks.landmark):\n",
        "                h,w,_=image.shape\n",
        "                X,Y=int(im.x*w),int(im.y*h)\n",
        "                imlist.append([id,X,Y])\n",
        "                \n",
        "        if len(imlist) != 0:\n",
        "            if(imlist[12][2] and imlist [11][2] >= imlist[14][2] and imlist [13][2]):\n",
        "                position=\"  down\"\n",
        "            if(imlist[12][2] and imlist [11][2] <= imlist[14][2] and imlist [13][2]) and position == \"  down\":\n",
        "                position=\"  up\"\n",
        "                count+=1\n",
        "                print(count)\n",
        "                \n",
        "                \n",
        "        # Setup status box       \n",
        "        cv2.rectangle(image, (0,0), (300,73), (245,117,16), -1)\n",
        "        cv2.putText(image, 'PUSHUP REP COUNTER', (15,12), cv2.FONT_HERSHEY_SIMPLEX, 0.5, (0,0,0), 1, cv2.LINE_AA)\n",
        "        cv2.putText(image, str(count), (10,60),  cv2.FONT_HERSHEY_SIMPLEX, 2, (255,255,255), 2, cv2.LINE_AA)\n",
        "        cv2.putText(image, position, (60,60),  cv2.FONT_HERSHEY_SIMPLEX, 2, (255,255,255), 2, cv2.LINE_AA)\n",
        "            \n",
        "        cv2.imshow(\"Push-up counter\", image)\n",
        "        if cv2.waitKey(10) & 0xFF == ord('q'):\n",
        "            break\n",
        "        \n",
        "cap.release()\n",
        "cv2.destroyAllWindows()"
      ]
    },
    {
      "cell_type": "markdown",
      "metadata": {
        "id": "DIOE3Z-wIawm"
      },
      "source": [
        "# SHOULDER PRESS"
      ]
    },
    {
      "cell_type": "code",
      "execution_count": null,
      "metadata": {
        "id": "gNIPu1m3Iawn",
        "outputId": "df775ce1-3fee-45c0-fe52-7274f7f504f9"
      },
      "outputs": [
        {
          "name": "stdout",
          "output_type": "stream",
          "text": [
            "1\n",
            "2\n",
            "3\n",
            "4\n"
          ]
        }
      ],
      "source": [
        "count =0\n",
        "position = None\n",
        "cap = cv2.VideoCapture(0)\n",
        "with mp_pose.Pose(min_detection_confidence=0.7, min_tracking_confidence=0.7) as pose:\n",
        "    while cap.isOpened():\n",
        "        success, image=cap.read()\n",
        "        if not success:\n",
        "            print(\"empty camera\")\n",
        "            break\n",
        "        \n",
        "        image = cv2.cvtColor(image,cv2.COLOR_BGR2RGB)\n",
        "        result = pose.process(image)\n",
        "        image = cv2.cvtColor(image,cv2.COLOR_BGR2RGB)\n",
        "        imlist=[]\n",
        "        \n",
        "        if result.pose_landmarks:\n",
        "            mp_drawing.draw_landmarks(\n",
        "                image, result.pose_landmarks,mp_pose.POSE_CONNECTIONS)\n",
        "            for id, im in enumerate(result.pose_landmarks.landmark):\n",
        "                h,w,_=image.shape\n",
        "                X,Y=int(im.x*w),int(im.y*h)\n",
        "                imlist.append([id,X,Y])\n",
        "                \n",
        "        if len(imlist) != 0:\n",
        "            if(imlist[12][2] and imlist [11][2] >= imlist[14][2] and imlist [13][2]):\n",
        "                position=\"  up\"\n",
        "                \n",
        "            if(imlist[12][2] and imlist [11][2] <= imlist[14][2] and imlist [13][2]) and position == \"  up\":\n",
        "                position=\"  down\"\n",
        "                count+=1\n",
        "                print(count)m\n",
        "                \n",
        "                \n",
        "                \n",
        "                \n",
        "        # Setup status box       \n",
        "        cv2.rectangle(image, (0,0), (300,73), (245,117,16), -1)\n",
        "        cv2.putText(image, 'SHOULDER PRESS REP COUNTER', (15,12), cv2.FONT_HERSHEY_SIMPLEX, 0.5, (0,0,0), 1, cv2.LINE_AA)\n",
        "        cv2.putText(image, str(count), (10,60),  cv2.FONT_HERSHEY_SIMPLEX, 2, (255,255,255), 2, cv2.LINE_AA)\n",
        "        cv2.putText(image, position, (60,60),  cv2.FONT_HERSHEY_SIMPLEX, 2, (255,255,255), 2, cv2.LINE_AA)\n",
        "            \n",
        "        cv2.imshow(\"Shoulder press counter\", image)\n",
        "        if cv2.waitKey(10) & 0xFF == ord('q'):\n",
        "            break\n",
        "        \n",
        "cap.release()\n",
        "cv2.destroyAllWindows()"
      ]
    },
    {
      "cell_type": "code",
      "execution_count": null,
      "metadata": {
        "id": "miMP91VIIawo"
      },
      "outputs": [],
      "source": []
    }
  ],
  "metadata": {
    "kernelspec": {
      "display_name": "Python 3",
      "language": "python",
      "name": "python3"
    },
    "language_info": {
      "codemirror_mode": {
        "name": "ipython",
        "version": 3
      },
      "file_extension": ".py",
      "mimetype": "text/x-python",
      "name": "python",
      "nbconvert_exporter": "python",
      "pygments_lexer": "ipython3",
      "version": "3.8.3"
    },
    "colab": {
      "provenance": []
    }
  },
  "nbformat": 4,
  "nbformat_minor": 0
}